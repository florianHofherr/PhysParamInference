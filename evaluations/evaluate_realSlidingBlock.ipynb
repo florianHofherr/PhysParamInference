{
 "cells": [
  {
   "cell_type": "code",
   "execution_count": 1,
   "metadata": {},
   "outputs": [
    {
     "name": "stdout",
     "output_type": "stream",
     "text": [
      "/home/wiss/hofherrf/gitRepos/pendulum_2d\n"
     ]
    }
   ],
   "source": [
    "%cd .."
   ]
  },
  {
   "cell_type": "code",
   "execution_count": 2,
   "metadata": {},
   "outputs": [],
   "source": [
    "import os\n",
    "import yaml\n",
    "import torch\n",
    "from torchvision import utils\n",
    "from models.sceneRepresentation import Scene\n",
    "from dataset.dataset import ImageDataset_realData\n",
    "from util.util import compute_psnr\n",
    "import matplotlib.pyplot as plt"
   ]
  },
  {
   "cell_type": "code",
   "execution_count": 22,
   "metadata": {},
   "outputs": [],
   "source": [
    "path_experiment = os.path.join(\n",
    "    os.path.abspath(''),\n",
    "    'experiments',\n",
    "    '2023-01-24',\n",
    "    'real_world',\n",
    "    'slidingBlock',\n",
    "    '10-38-53'\n",
    ")"
   ]
  },
  {
   "cell_type": "code",
   "execution_count": 23,
   "metadata": {},
   "outputs": [],
   "source": [
    "path_conf = os.path.join(path_experiment, '.hydra','config.yaml')\n",
    "with open(path_conf) as f:\n",
    "    cfg = yaml.safe_load(f)"
   ]
  },
  {
   "cell_type": "code",
   "execution_count": 24,
   "metadata": {},
   "outputs": [],
   "source": [
    "if torch.cuda.is_available():\n",
    "    device = \"cuda\"\n",
    "else:\n",
    "    device = \"cpu\""
   ]
  },
  {
   "cell_type": "code",
   "execution_count": 25,
   "metadata": {},
   "outputs": [],
   "source": [
    "model = Scene(**cfg['scene']['background'])\n",
    "\n",
    "model.add_slidingBlock(\n",
    "    alpha=torch.tensor(0.),\n",
    "    p0=torch.ones(2),\n",
    "    **cfg['scene']['local_representation']\n",
    ")\n",
    "\n",
    "path_ckpt = os.path.join(path_experiment, 'ckpt.pth')\n",
    "model.load_state_dict(torch.load(path_ckpt))\n",
    "\n",
    "model.use_homography = cfg['homography']['enable']"
   ]
  },
  {
   "cell_type": "code",
   "execution_count": 26,
   "metadata": {},
   "outputs": [
    {
     "name": "stdout",
     "output_type": "stream",
     "text": [
      "Moved to device\n"
     ]
    }
   ],
   "source": [
    "model.to(device)\n",
    "print(\"Moved to device\")"
   ]
  },
  {
   "cell_type": "code",
   "execution_count": 27,
   "metadata": {},
   "outputs": [
    {
     "name": "stdout",
     "output_type": "stream",
     "text": [
      "Tspan eval data: tensor([0.0000, 0.0333, 0.1000, 0.1667, 0.2333, 0.3000, 0.3667, 0.4000],\n",
      "       device='cuda:0')\n",
      "Tspan train data: tensor([0.0000, 0.0667, 0.1333, 0.2000, 0.2667, 0.3333])\n"
     ]
    }
   ],
   "source": [
    "data_path = os.path.join(os.path.abspath(''), 'data',cfg['data']['path_data'])\n",
    "\n",
    "train_data = ImageDataset_realData(\n",
    "    **cfg['data'],\n",
    "    max_samples=cfg['data']['samples_train']\n",
    ")\n",
    "\n",
    "dataset = ImageDataset_realData(\n",
    "    **cfg['data'],\n",
    "    indices=train_data.unused_inds\n",
    ")\n",
    "\n",
    "tspan = dataset.t_steps.to(device)\n",
    "print(f\"Tspan eval data: {tspan}\")\n",
    "print(f\"Tspan train data: {train_data.t_steps}\")"
   ]
  },
  {
   "cell_type": "code",
   "execution_count": 28,
   "metadata": {},
   "outputs": [
    {
     "name": "stdout",
     "output_type": "stream",
     "text": [
      "PSNR: 34.761505126953125, Norm diff: 0.1761433184146881\n",
      "Rel Error alpha: 3.21%\n",
      "34.76 & 0.18\n"
     ]
    }
   ],
   "source": [
    "# Render images\n",
    "model.eval()\n",
    "model.update_trafo(tspan)\n",
    "H, W = dataset.get_image_dim()\n",
    "output = model.render_image(W, H)\n",
    "ims = output[\"Image\"].cpu()\n",
    "masks = output['Mask'].cpu()\n",
    "\n",
    "psnr = compute_psnr(ims, dataset.get_full_images())\n",
    "norm = torch.norm(torch.eye(3) - model.homography_matrix.cpu())\n",
    "\n",
    "measured_alpha = 24\n",
    "rel_error_alpha = torch.abs(torch.rad2deg(model.local_representation.ode.alpha) - measured_alpha) / measured_alpha\n",
    "print(f\"PSNR: {psnr}, Norm diff: {norm}\")\n",
    "print(f\"Rel Error alpha: {100*rel_error_alpha:.2f}%\")\n",
    "print(f\"{psnr:.2f} & {norm:.2f}\")"
   ]
  },
  {
   "cell_type": "code",
   "execution_count": 14,
   "metadata": {},
   "outputs": [],
   "source": [
    "path_folder_rendering = os.path.join(path_experiment, 'renderingsRealWorld')\n",
    "os.makedirs(path_folder_rendering)\n",
    "\n",
    "# Save individual images\n",
    "for i in range(len(tspan)):\n",
    "    path = os.path.join(path_folder_rendering, f\"{i+1}_eval.jpg\")\n",
    "    cur_im = ims[i].permute(2, 0, 1)\n",
    "    utils.save_image(cur_im, path)\n",
    "\n",
    "    path = os.path.join(path_folder_rendering, f\"{i+1}_mask_eval.jpg\")\n",
    "    cur_mask = masks[i]\n",
    "    utils.save_image(cur_mask, path)\n",
    "\n",
    "    path = os.path.join(path_folder_rendering, f\"{i+1}_gt.jpg\")\n",
    "    cur_im_gt = dataset.get_full_images(i).permute(2, 0, 1)\n",
    "    utils.save_image(cur_im_gt, path)"
   ]
  },
  {
   "cell_type": "code",
   "execution_count": null,
   "metadata": {},
   "outputs": [],
   "source": []
  }
 ],
 "metadata": {
  "interpreter": {
   "hash": "7f01482bfefa3a3bc7460951111586304597956327628e7e66e099af897f7956"
  },
  "kernelspec": {
   "display_name": "Python 3.8.5 ('nerf-pytorch3d')",
   "language": "python",
   "name": "python3"
  },
  "language_info": {
   "codemirror_mode": {
    "name": "ipython",
    "version": 3
   },
   "file_extension": ".py",
   "mimetype": "text/x-python",
   "name": "python",
   "nbconvert_exporter": "python",
   "pygments_lexer": "ipython3",
   "version": "3.8.5 (default, Sep  4 2020, 07:30:14) \n[GCC 7.3.0]"
  },
  "orig_nbformat": 4
 },
 "nbformat": 4,
 "nbformat_minor": 2
}
