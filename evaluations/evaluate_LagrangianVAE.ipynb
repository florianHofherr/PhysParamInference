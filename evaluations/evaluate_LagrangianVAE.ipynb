{
 "cells": [
  {
   "cell_type": "code",
   "execution_count": null,
   "metadata": {},
   "outputs": [],
   "source": [
    "%cd .."
   ]
  },
  {
   "cell_type": "code",
   "execution_count": null,
   "metadata": {},
   "outputs": [],
   "source": [
    "import os\n",
    "import torch\n",
    "import yaml\n",
    "from models.sceneRepresentation import Scene\n",
    "from dataset.dataset import ImageDataset_LagrangianVAE\n",
    "import matplotlib.pyplot as plt\n",
    "from util.util import compute_psnr, compute_iou"
   ]
  },
  {
   "cell_type": "code",
   "execution_count": null,
   "metadata": {},
   "outputs": [],
   "source": [
    "path_experiments = os.path.join(\n",
    "    os.path.abspath(''),\n",
    "    'experiments',\n",
    "    '2023-01-25',\n",
    "    'LagrangianVAE_offset'\n",
    ")"
   ]
  },
  {
   "cell_type": "code",
   "execution_count": null,
   "metadata": {},
   "outputs": [],
   "source": [
    "if torch.cuda.is_available():\n",
    "    device = \"cuda\"\n",
    "else:\n",
    "    device = \"cpu\"\n",
    "\n",
    "\n",
    "ious = []\n",
    "path_file = os.path.join(path_experiments, 'results.txt')\n",
    "\n",
    "# Delete previous result files\n",
    "if os.path.exists(path_file):\n",
    "    os.remove(path_file)\n",
    "\n",
    "# Get all the experiments\n",
    "for path_experiment in os.scandir(path_experiments):\n",
    "    # Load Config\n",
    "    path_conf = os.path.join(path_experiment, '.hydra','config.yaml')\n",
    "    with open(path_conf) as f:\n",
    "        cfg = yaml.safe_load(f)\n",
    "\n",
    "    print(\"Doing idx: \", cfg['data']['batch_idx'])\n",
    "\n",
    "    # Load Model\n",
    "    model = Scene()\n",
    "    model.add_pendulum(**cfg['ode'], **cfg['scene']['local_representation'])\n",
    "\n",
    "    path_ckpt = os.path.join(path_experiment, 'ckpt.pth')\n",
    "    model.load_state_dict(torch.load(path_ckpt))\n",
    "\n",
    "    model.to(device)\n",
    "\n",
    "    # Load Data\n",
    "    path_data = os.path.join(os.path.abspath(''), 'data',cfg['data']['path_data'])\n",
    "    data = ImageDataset_LagrangianVAE(\n",
    "        path_data,\n",
    "        T_pred=cfg['data']['T_pred'],\n",
    "        batch_idx=cfg['data']['batch_idx'],\n",
    "        use_high_res=False,\n",
    "        offset_x=cfg['data']['offset_x'],\n",
    "        offset_y=cfg['data']['offset_y']\n",
    "    )\n",
    "    H, W = data.get_image_dim()\n",
    "\n",
    "    # Compute PSNR and IoU\n",
    "    tspan = data.t_steps_eval.to(device)\n",
    "    model.update_trafo(tspan)\n",
    "    output = model.render_image(W, H)\n",
    "    iou = compute_iou(output['Mask'].cpu(), data.get_full_mask())\n",
    "    ious.append(iou)\n",
    "    print(f\"IoU: {iou}\")\n",
    "\n",
    "    # Write summary file\n",
    "    with open(path_file, 'a') as f:\n",
    "        f.write(f\"Index: {cfg['data']['batch_idx']}\\n\")\n",
    "        f.write(f\"IoU: {iou}\\n\")\n",
    "        f.write(\"=============================\\n\\n\")\n",
    "\n",
    "    print(\"Done\")\n",
    "    print(\"====================================================\")\n",
    "\n",
    "avg_iou = torch.mean(torch.tensor(ious))\n",
    "print(\"Results:\")\n",
    "print(f\"Avg IoU: {avg_iou}\")"
   ]
  },
  {
   "cell_type": "code",
   "execution_count": null,
   "metadata": {},
   "outputs": [],
   "source": []
  }
 ],
 "metadata": {
  "kernelspec": {
   "display_name": "Python 3.8.5 ('nerf-pytorch3d')",
   "language": "python",
   "name": "python3"
  },
  "language_info": {
   "codemirror_mode": {
    "name": "ipython",
    "version": 3
   },
   "file_extension": ".py",
   "mimetype": "text/x-python",
   "name": "python",
   "nbconvert_exporter": "python",
   "pygments_lexer": "ipython3",
   "version": "3.8.5 (default, Sep  4 2020, 07:30:14) \n[GCC 7.3.0]"
  },
  "orig_nbformat": 4,
  "vscode": {
   "interpreter": {
    "hash": "7f01482bfefa3a3bc7460951111586304597956327628e7e66e099af897f7956"
   }
  }
 },
 "nbformat": 4,
 "nbformat_minor": 2
}
