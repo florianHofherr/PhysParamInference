{
 "cells": [
  {
   "cell_type": "code",
   "execution_count": 1,
   "metadata": {},
   "outputs": [
    {
     "name": "stdout",
     "output_type": "stream",
     "text": [
      "/home/wiss/hofherrf/gitRepos/CodeRelease\n"
     ]
    }
   ],
   "source": [
    "%cd .."
   ]
  },
  {
   "cell_type": "code",
   "execution_count": 2,
   "metadata": {},
   "outputs": [],
   "source": [
    "import os\n",
    "import yaml\n",
    "import torch\n",
    "from torchvision import utils\n",
    "from models.sceneRepresentation import Scene\n",
    "from dataset.dataset import ImageDataset_realData\n",
    "from util.util import compute_psnr\n",
    "import matplotlib.pyplot as plt"
   ]
  },
  {
   "cell_type": "code",
   "execution_count": 3,
   "metadata": {},
   "outputs": [],
   "source": [
    "path_experiment = os.path.join(\n",
    "    os.path.abspath(''),\n",
    "    'experiments',\n",
    "    '2023-01-30',\n",
    "    'real_world',\n",
    "    'pendulum',\n",
    "    '10-13-05'\n",
    ")"
   ]
  },
  {
   "cell_type": "code",
   "execution_count": 4,
   "metadata": {},
   "outputs": [
    {
     "name": "stdout",
     "output_type": "stream",
     "text": [
      "Moved to device\n"
     ]
    }
   ],
   "source": [
    "path_conf = os.path.join(path_experiment, '.hydra','config.yaml')\n",
    "with open(path_conf) as f:\n",
    "    cfg = yaml.safe_load(f)\n",
    "\n",
    "if torch.cuda.is_available():\n",
    "    device = \"cuda\"\n",
    "else:\n",
    "    device = \"cpu\"\n",
    "\n",
    "model = Scene(**cfg['scene']['background'])\n",
    "\n",
    "model.add_pendulum(**cfg['ode'], **cfg['scene']['local_representation'])\n",
    "\n",
    "path_ckpt = os.path.join(path_experiment, 'ckpt.pth')\n",
    "model.load_state_dict(torch.load(path_ckpt))\n",
    "\n",
    "model.use_homography = cfg['homography']['enable']\n",
    "\n",
    "model.to(device)\n",
    "print(\"Moved to device\")"
   ]
  },
  {
   "cell_type": "code",
   "execution_count": 5,
   "metadata": {},
   "outputs": [
    {
     "name": "stdout",
     "output_type": "stream",
     "text": [
      "Tspan eval data: tensor([0.0000, 0.1000, 0.3000, 0.5000, 0.7000, 0.9000, 1.1000, 1.3000, 1.5000,\n",
      "        1.7000, 1.9000, 2.0000, 2.1000, 2.2000, 2.3000, 2.4000, 2.5000, 2.6000,\n",
      "        2.7000, 2.8000, 2.9000, 3.0000, 3.1000, 3.2000, 3.3000, 3.4000, 3.5000,\n",
      "        3.6000, 3.7000, 3.8000, 3.9000], device='cuda:0')\n",
      "Tspan train data: tensor([0.0000, 0.2000, 0.4000, 0.6000, 0.8000, 1.0000, 1.2000, 1.4000, 1.6000,\n",
      "        1.8000])\n"
     ]
    }
   ],
   "source": [
    "data_path = os.path.join(os.path.abspath(''), 'data',cfg['data']['path_data'])\n",
    "\n",
    "train_data = ImageDataset_realData(\n",
    "    **cfg['data'],\n",
    "    normalize_by_H=True,\n",
    "    max_samples=cfg['data']['samples_train']\n",
    ")\n",
    "\n",
    "eval_data = ImageDataset_realData(\n",
    "    **cfg['data'],\n",
    "    normalize_by_H=True,\n",
    "    indices=train_data.unused_inds\n",
    ")\n",
    "\n",
    "tspan_eval = eval_data.t_steps.to(device)\n",
    "print(f\"Tspan eval data: {tspan_eval}\")\n",
    "print(f\"Tspan train data: {train_data.t_steps}\")"
   ]
  },
  {
   "cell_type": "code",
   "execution_count": 6,
   "metadata": {},
   "outputs": [
    {
     "name": "stdout",
     "output_type": "stream",
     "text": [
      "PSNR: 29.40026092529297, Norm diff: 0.06202326714992523\n",
      "Rel Error l: 4.09%\n",
      "29.40 & 0.06\n"
     ]
    }
   ],
   "source": [
    "# Render images\n",
    "model.eval()\n",
    "model.update_trafo(tspan_eval)\n",
    "H, W = eval_data.get_image_dim()\n",
    "output = model.render_image(W, H, normalize_by_H=True)\n",
    "ims = output[\"Image\"].cpu()\n",
    "masks = output['Mask'].cpu()\n",
    "\n",
    "psnr = compute_psnr(ims, eval_data.get_full_images())\n",
    "norm = torch.norm(torch.eye(3) - model.homography_matrix.cpu())\n",
    "\n",
    "measured_l = 0.271\n",
    "rel_error_l = torch.abs(model.local_representation.ode.l_pendulum - measured_l) / measured_l\n",
    "print(f\"PSNR: {psnr}, Norm diff: {norm}\")\n",
    "print(f\"Rel Error l: {100*rel_error_l:.2f}%\")\n",
    "print(f\"{psnr:.2f} & {norm:.2f}\")"
   ]
  },
  {
   "cell_type": "code",
   "execution_count": 7,
   "metadata": {},
   "outputs": [
    {
     "name": "stdout",
     "output_type": "stream",
     "text": [
      "Saving imgaes for timesteps tensor([1.5000, 1.7000, 1.9000, 2.0000, 2.1000, 2.2000, 2.3000],\n",
      "       device='cuda:0')\n"
     ]
    }
   ],
   "source": [
    "path_folder_rendering = os.path.join(path_experiment, 'renderingsRealWorld')\n",
    "os.makedirs(path_folder_rendering)\n",
    "\n",
    "width = int(ims.shape[2] / 2 - 2)\n",
    "\n",
    "inds_to_save = [i for i in range(8, 15) if (i+1)%1==0]\n",
    "print(f\"Saving imgaes for timesteps {tspan_eval[inds_to_save]}\")\n",
    "\n",
    "# Save individual images\n",
    "for i in inds_to_save:\n",
    "    path = os.path.join(path_folder_rendering, f\"{i}_eval.jpg\")\n",
    "    cur_im = ims[i].permute(2, 0, 1)\n",
    "    utils.save_image(cur_im, path)\n",
    "\n",
    "    path = os.path.join(path_folder_rendering, f\"{i}_gt.jpg\")\n",
    "    cur_im_gt = eval_data.get_full_images(i).permute(2, 0, 1)\n",
    "    utils.save_image(cur_im_gt, path)\n",
    "\n",
    "    path = os.path.join(path_folder_rendering, f\"{i}_mask_eval.jpg\")\n",
    "    cur_mask = masks[i]\n",
    "    utils.save_image(cur_mask, path)\n",
    "\n",
    "    path = os.path.join(path_folder_rendering, f\"{i}_merged_gtRight.jpg\")\n",
    "    merged_im = torch.zeros_like(cur_im)\n",
    "    merged_im[0, :, :] = 1.0\n",
    "    merged_im[:, :, :width] = cur_im[:, :, :width]\n",
    "    merged_im[:, :, -width:] = cur_im_gt[:, :, -width:]\n",
    "    utils.save_image(merged_im, path)"
   ]
  },
  {
   "cell_type": "code",
   "execution_count": null,
   "metadata": {},
   "outputs": [],
   "source": []
  }
 ],
 "metadata": {
  "kernelspec": {
   "display_name": "Python 3.8.5 ('nerf-pytorch3d')",
   "language": "python",
   "name": "python3"
  },
  "language_info": {
   "codemirror_mode": {
    "name": "ipython",
    "version": 3
   },
   "file_extension": ".py",
   "mimetype": "text/x-python",
   "name": "python",
   "nbconvert_exporter": "python",
   "pygments_lexer": "ipython3",
   "version": "3.8.5"
  },
  "orig_nbformat": 4,
  "vscode": {
   "interpreter": {
    "hash": "7f01482bfefa3a3bc7460951111586304597956327628e7e66e099af897f7956"
   }
  }
 },
 "nbformat": 4,
 "nbformat_minor": 2
}
